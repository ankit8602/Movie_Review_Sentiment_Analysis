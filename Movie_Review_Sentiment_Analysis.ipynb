{
 "cells": [
  {
   "cell_type": "code",
   "execution_count": 1,
   "metadata": {},
   "outputs": [],
   "source": [
    "#importing required libraries\n",
    "import pandas as pd\n",
    "import numpy as np\n",
    "import matplotlib.pyplot as plt\n",
    "import seaborn as sns\n",
    "from numpy import mean\n",
    "from numpy import std\n",
    "import string \n",
    "import re\n",
    "import nltk\n",
    "from nltk.corpus import stopwords\n",
    "from nltk.stem import PorterStemmer\n",
    "from nltk.tokenize import sent_tokenize, word_tokenize\n",
    "from nltk.stem import WordNetLemmatizer\n",
    "from sklearn.feature_extraction.text import TfidfVectorizer\n",
    "from sklearn.model_selection import train_test_split\n",
    "from sklearn.naive_bayes import MultinomialNB\n",
    "from sklearn.metrics import confusion_matrix as sk_confusion_matrix\n",
    "from sklearn.metrics import roc_curve, auc\n",
    "from sklearn.model_selection import KFold\n",
    "from sklearn.model_selection import cross_val_score\n",
    "from sklearn.metrics import classification_report,confusion_matrix,accuracy_score"
   ]
  },
  {
   "cell_type": "markdown",
   "metadata": {},
   "source": [
    "## Reading and inspection"
   ]
  },
  {
   "cell_type": "code",
   "execution_count": 2,
   "metadata": {},
   "outputs": [
    {
     "data": {
      "text/html": [
       "<div>\n",
       "<style scoped>\n",
       "    .dataframe tbody tr th:only-of-type {\n",
       "        vertical-align: middle;\n",
       "    }\n",
       "\n",
       "    .dataframe tbody tr th {\n",
       "        vertical-align: top;\n",
       "    }\n",
       "\n",
       "    .dataframe thead th {\n",
       "        text-align: right;\n",
       "    }\n",
       "</style>\n",
       "<table border=\"1\" class=\"dataframe\">\n",
       "  <thead>\n",
       "    <tr style=\"text-align: right;\">\n",
       "      <th></th>\n",
       "      <th>Review</th>\n",
       "      <th>Sentiment</th>\n",
       "    </tr>\n",
       "  </thead>\n",
       "  <tbody>\n",
       "    <tr>\n",
       "      <th>0</th>\n",
       "      <td>films adapted from comic books have had plenty...</td>\n",
       "      <td>pos</td>\n",
       "    </tr>\n",
       "    <tr>\n",
       "      <th>1</th>\n",
       "      <td>every now and then a movie comes along from a ...</td>\n",
       "      <td>pos</td>\n",
       "    </tr>\n",
       "    <tr>\n",
       "      <th>2</th>\n",
       "      <td>you ' ve got mail works alot better than it de...</td>\n",
       "      <td>pos</td>\n",
       "    </tr>\n",
       "    <tr>\n",
       "      <th>3</th>\n",
       "      <td>\" jaws \" is a rare film that grabs your attent...</td>\n",
       "      <td>pos</td>\n",
       "    </tr>\n",
       "    <tr>\n",
       "      <th>4</th>\n",
       "      <td>moviemaking is a lot like being the general ma...</td>\n",
       "      <td>pos</td>\n",
       "    </tr>\n",
       "  </tbody>\n",
       "</table>\n",
       "</div>"
      ],
      "text/plain": [
       "                                              Review Sentiment\n",
       "0  films adapted from comic books have had plenty...       pos\n",
       "1  every now and then a movie comes along from a ...       pos\n",
       "2  you ' ve got mail works alot better than it de...       pos\n",
       "3  \" jaws \" is a rare film that grabs your attent...       pos\n",
       "4  moviemaking is a lot like being the general ma...       pos"
      ]
     },
     "execution_count": 2,
     "metadata": {},
     "output_type": "execute_result"
    }
   ],
   "source": [
    "# Reading the Movie_Review_dataset\n",
    "movie_df = pd.read_csv(\"Movie_Review_Dataset.csv\")\n",
    "movie_df.head()"
   ]
  },
  {
   "cell_type": "code",
   "execution_count": 3,
   "metadata": {},
   "outputs": [
    {
     "data": {
      "text/plain": [
       "Review       0\n",
       "Sentiment    0\n",
       "dtype: int64"
      ]
     },
     "execution_count": 3,
     "metadata": {},
     "output_type": "execute_result"
    }
   ],
   "source": [
    "#checking the null values\n",
    "movie_df.isnull().sum()"
   ]
  },
  {
   "cell_type": "markdown",
   "metadata": {},
   "source": [
    "As you can see there is no null values in both the columns"
   ]
  },
  {
   "cell_type": "code",
   "execution_count": 4,
   "metadata": {},
   "outputs": [
    {
     "name": "stdout",
     "output_type": "stream",
     "text": [
      "Rows:  2000\n",
      "Columns:  2\n"
     ]
    }
   ],
   "source": [
    "# inspecting the no. of rows and columns\n",
    "print(\"Rows: \",movie_df.shape[0])\n",
    "print(\"Columns: \",movie_df.shape[1])"
   ]
  },
  {
   "cell_type": "code",
   "execution_count": 5,
   "metadata": {},
   "outputs": [
    {
     "data": {
      "text/plain": [
       "neg    1000\n",
       "pos    1000\n",
       "Name: Sentiment, dtype: int64"
      ]
     },
     "execution_count": 5,
     "metadata": {},
     "output_type": "execute_result"
    }
   ],
   "source": [
    "# counting pos and neg instances\n",
    "pos_neg = movie_df['Sentiment'].value_counts()\n",
    "pos_neg"
   ]
  },
  {
   "cell_type": "code",
   "execution_count": 6,
   "metadata": {},
   "outputs": [
    {
     "data": {
      "image/png": "[encoded data removed]",
      "text/plain": [
       "<Figure size 432x288 with 1 Axes>"
      ]
     },
     "metadata": {
      "needs_background": "light"
     },
     "output_type": "display_data"
    }
   ],
   "source": [
    "# countplot\n",
    "\n",
    "sns.countplot(x = 'Sentiment', data = movie_df)\n",
    "plt.title(\"Frequency\")\n",
    "plt.show()"
   ]
  },
  {
   "cell_type": "markdown",
   "metadata": {},
   "source": [
    "The frequency of both **'pos'** and **'neg'** is same i.e. 1000"
   ]
  },
  {
   "cell_type": "code",
   "execution_count": 7,
   "metadata": {},
   "outputs": [
    {
     "data": {
      "text/html": [
       "<div>\n",
       "<style scoped>\n",
       "    .dataframe tbody tr th:only-of-type {\n",
       "        vertical-align: middle;\n",
       "    }\n",
       "\n",
       "    .dataframe tbody tr th {\n",
       "        vertical-align: top;\n",
       "    }\n",
       "\n",
       "    .dataframe thead th {\n",
       "        text-align: right;\n",
       "    }\n",
       "</style>\n",
       "<table border=\"1\" class=\"dataframe\">\n",
       "  <thead>\n",
       "    <tr style=\"text-align: right;\">\n",
       "      <th></th>\n",
       "      <th>Review</th>\n",
       "      <th>Sentiment</th>\n",
       "    </tr>\n",
       "  </thead>\n",
       "  <tbody>\n",
       "    <tr>\n",
       "      <th>count</th>\n",
       "      <td>2000</td>\n",
       "      <td>2000</td>\n",
       "    </tr>\n",
       "    <tr>\n",
       "      <th>unique</th>\n",
       "      <td>2000</td>\n",
       "      <td>2</td>\n",
       "    </tr>\n",
       "    <tr>\n",
       "      <th>top</th>\n",
       "      <td>i won \u0012 t even pretend that i have seen the ot...</td>\n",
       "      <td>neg</td>\n",
       "    </tr>\n",
       "    <tr>\n",
       "      <th>freq</th>\n",
       "      <td>1</td>\n",
       "      <td>1000</td>\n",
       "    </tr>\n",
       "  </tbody>\n",
       "</table>\n",
       "</div>"
      ],
      "text/plain": [
       "                                                   Review Sentiment\n",
       "count                                                2000      2000\n",
       "unique                                               2000         2\n",
       "top     i won \u0012 t even pretend that i have seen the ot...       neg\n",
       "freq                                                    1      1000"
      ]
     },
     "execution_count": 7,
     "metadata": {},
     "output_type": "execute_result"
    }
   ],
   "source": [
    "# Summary of the datasset\n",
    "\n",
    "movie_df.describe()"
   ]
  },
  {
   "cell_type": "markdown",
   "metadata": {},
   "source": [
    "## Data Pre-processing"
   ]
  },
  {
   "cell_type": "code",
   "execution_count": 8,
   "metadata": {
    "scrolled": true
   },
   "outputs": [
    {
     "data": {
      "text/html": [
       "<div>\n",
       "<style scoped>\n",
       "    .dataframe tbody tr th:only-of-type {\n",
       "        vertical-align: middle;\n",
       "    }\n",
       "\n",
       "    .dataframe tbody tr th {\n",
       "        vertical-align: top;\n",
       "    }\n",
       "\n",
       "    .dataframe thead th {\n",
       "        text-align: right;\n",
       "    }\n",
       "</style>\n",
       "<table border=\"1\" class=\"dataframe\">\n",
       "  <thead>\n",
       "    <tr style=\"text-align: right;\">\n",
       "      <th></th>\n",
       "      <th>Review</th>\n",
       "      <th>Sentiment</th>\n",
       "      <th>label</th>\n",
       "    </tr>\n",
       "  </thead>\n",
       "  <tbody>\n",
       "    <tr>\n",
       "      <th>0</th>\n",
       "      <td>films adapted from comic books have had plenty...</td>\n",
       "      <td>pos</td>\n",
       "      <td>0</td>\n",
       "    </tr>\n",
       "    <tr>\n",
       "      <th>1</th>\n",
       "      <td>every now and then a movie comes along from a ...</td>\n",
       "      <td>pos</td>\n",
       "      <td>0</td>\n",
       "    </tr>\n",
       "    <tr>\n",
       "      <th>2</th>\n",
       "      <td>you ' ve got mail works alot better than it de...</td>\n",
       "      <td>pos</td>\n",
       "      <td>0</td>\n",
       "    </tr>\n",
       "    <tr>\n",
       "      <th>3</th>\n",
       "      <td>\" jaws \" is a rare film that grabs your attent...</td>\n",
       "      <td>pos</td>\n",
       "      <td>0</td>\n",
       "    </tr>\n",
       "    <tr>\n",
       "      <th>4</th>\n",
       "      <td>moviemaking is a lot like being the general ma...</td>\n",
       "      <td>pos</td>\n",
       "      <td>0</td>\n",
       "    </tr>\n",
       "  </tbody>\n",
       "</table>\n",
       "</div>"
      ],
      "text/plain": [
       "                                              Review Sentiment  label\n",
       "0  films adapted from comic books have had plenty...       pos      0\n",
       "1  every now and then a movie comes along from a ...       pos      0\n",
       "2  you ' ve got mail works alot better than it de...       pos      0\n",
       "3  \" jaws \" is a rare film that grabs your attent...       pos      0\n",
       "4  moviemaking is a lot like being the general ma...       pos      0"
      ]
     },
     "execution_count": 8,
     "metadata": {},
     "output_type": "execute_result"
    }
   ],
   "source": [
    "# Labelling pos as '0' and neg as '1' for further analysis\n",
    "\n",
    "movie_df['label']=movie_df['Sentiment'].map({'neg':1,'pos':0}).astype(int)\n",
    "movie_df.head()"
   ]
  },
  {
   "cell_type": "code",
   "execution_count": 9,
   "metadata": {},
   "outputs": [],
   "source": [
    "# Defining a function that will remove non-alphabetic, whitespaces\n",
    "\n",
    "def clean(text):    \n",
    "    data=re.sub('[^a-zA-Z]',' ',text) \n",
    "    data=re.sub('\\b[a-zA-Z]\\b','',data)\n",
    "    data=re.sub('\\W',' ',data)\n",
    "    data=re.sub('\\t',' ',data)\n",
    "    data=data.lower()\n",
    "    data=data.lstrip()\n",
    "    data=data.rstrip()\n",
    "    return data"
   ]
  },
  {
   "cell_type": "code",
   "execution_count": 10,
   "metadata": {},
   "outputs": [
    {
     "data": {
      "text/plain": [
       "'every now and then a movie comes along from a suspect studio   with every indication that it will be a stinker   and to everybody   s surprise   perhaps even the studio   the film becomes a critical darling   mtv films    election   a high school comedy starring matthew broderick and reese witherspoon   is a current example   did anybody know this film existed a week before it opened   the plot is deceptively simple   george washington carver high school is having student elections   tracy flick   reese witherspoon   is an over   achiever with her hand raised at nearly every question   way   way   high   mr     m     matthew broderick     sick of the megalomaniac student   encourages paul   a popular   but   slow jock to run   and paul   s nihilistic sister jumps in the race as well   for personal reasons   the dark side of such sleeper success is that   because expectations were so low going in   the fact that this was quality stuff made the reviews even more enthusiastic than they have any right to be   you can   t help going in with the baggage of glowing reviews   which is in contrast to the negative baggage that the reviewers were likely to have    election   a good film   does not live up to its hype   what makes  election  so disappointing is that it contains significant plot details lifted directly from  rushmore    released a few months earlier   the similarities are staggering   tracy flick    election    is the president of an extraordinary number of clubs   and is involved with the school play   max fischer    rushmore    is the president of an extraordinary number of clubs   and is involved with the school play   the most significant tension of  election  is the potential relationship between a teacher and his student   the most significant tension of  rushmore  is the potential relationship between a teacher and his student   tracy flick is from a single parent home   which has contributed to her drive   max fischer is from a single parent home   which has contributed to his drive   the male bumbling adult in  election    matthew broderick   pursues an extramarital affair   gets caught   and his whole life is ruined   he even gets a bee sting   the male bumbling adult in  rushmore    bill murray   pursues an extramarital affair   gets caught   and his whole life is ruined   he gets several bee stings   and so on   what happened   how is it that an individual screenplay    rushmore    and a novel    election    contain so many significant plot points   and yet both films were probably not even aware of each other   made from two different studios   from a genre   the high school geeks revenge movie   that hadn   t been fully formed yet   even so   the strengths of  election  rely upon its fantastic performances from broderick   witherspoon   and newcomer jessica campbell   as paul   s anti   social sister   tammy   broderick here is playing the mr   rooney role from  ferris bueller    and he seems to be having the most fun he   s had since then   witherspoon is a revelation   it   s early in the year   it   s a comedy   and teenagers have little clout   but for my money   witherspoon deserves an oscar nomination   and once campbell   s character gets going   like in her fantastic speech in the gymnasium   then you   re won over   one thing that   s been bothering me since i   ve seen it   there is an extraordinary amount of sexuality in this film   i suppose that   coming from mtv films   i should expect no less       but the film starts off light and airy   like a sitcom   as the screws tighten   and the tensions mount   alexander payne decides to add elements that   frankly   distract from the story   it is bad enough that mr   m doesn   t like tracy   s determination to win at all costs   but did they have to throw in the student   teacher relationship   even so   there   s no logical reason why mr   m has an affair when he does   there   s a lot to like in  election    but the plot similarities to  rushmore    and the tonal nosedive it takes as it gets explicitly sex   driven   mark this as a disappointment'"
      ]
     },
     "execution_count": 10,
     "metadata": {},
     "output_type": "execute_result"
    }
   ],
   "source": [
    "#Applying above created function on the dataset\n",
    "\n",
    "cleaned_df = movie_df['Review'].apply(clean)\n",
    "cleaned_df[1]"
   ]
  },
  {
   "cell_type": "code",
   "execution_count": 11,
   "metadata": {},
   "outputs": [
    {
     "data": {
      "text/plain": [
       "0       [films, adapted, from, comic, books, have, had...\n",
       "1       [every, now, and, then, a, movie, comes, along...\n",
       "2       [you, ve, got, mail, works, alot, better, than...\n",
       "3       [jaws, is, a, rare, film, that, grabs, your, a...\n",
       "4       [moviemaking, is, a, lot, like, being, the, ge...\n",
       "                              ...                        \n",
       "1995    [if, anything, stigmata, should, be, taken, as...\n",
       "1996    [john, boorman, s, zardoz, is, a, goofy, cinem...\n",
       "1997    [the, kids, in, the, hall, are, an, acquired, ...\n",
       "1998    [there, was, a, time, when, john, carpenter, w...\n",
       "1999    [two, party, guys, bob, their, heads, to, hadd...\n",
       "Name: Review, Length: 2000, dtype: object"
      ]
     },
     "execution_count": 11,
     "metadata": {},
     "output_type": "execute_result"
    }
   ],
   "source": [
    "# tokenization\n",
    "\n",
    "tokenized_df = cleaned_df.apply(lambda row:nltk.word_tokenize(row))\n",
    "tokenized_df"
   ]
  },
  {
   "cell_type": "code",
   "execution_count": 12,
   "metadata": {},
   "outputs": [],
   "source": [
    "# Creating a function that will remove stopwords from the text\n",
    "\n",
    "def remove_stopwords(text):\n",
    "    stop_words=set(stopwords.words('english'))\n",
    "    cleaned_text=[word for word in text if word not in stop_words]\n",
    "    return cleaned_text"
   ]
  },
  {
   "cell_type": "code",
   "execution_count": 13,
   "metadata": {},
   "outputs": [
    {
     "data": {
      "text/plain": [
       "0       [films, adapted, comic, books, plenty, success...\n",
       "1       [every, movie, comes, along, suspect, studio, ...\n",
       "2       [got, mail, works, alot, better, deserves, ord...\n",
       "3       [jaws, rare, film, grabs, attention, shows, si...\n",
       "4       [moviemaking, lot, like, general, manager, nfl...\n",
       "                              ...                        \n",
       "1995    [anything, stigmata, taken, warning, releasing...\n",
       "1996    [john, boorman, zardoz, goofy, cinematic, deba...\n",
       "1997    [kids, hall, acquired, taste, took, least, sea...\n",
       "1998    [time, john, carpenter, great, horror, directo...\n",
       "1999    [two, party, guys, bob, heads, haddaway, dance...\n",
       "Name: Review, Length: 2000, dtype: object"
      ]
     },
     "execution_count": 13,
     "metadata": {},
     "output_type": "execute_result"
    }
   ],
   "source": [
    "# applying the above created function\n",
    "\n",
    "without_stopwords_df = tokenized_df.apply(remove_stopwords)\n",
    "without_stopwords_df"
   ]
  },
  {
   "cell_type": "code",
   "execution_count": 14,
   "metadata": {},
   "outputs": [],
   "source": [
    "# Lemmatization\n",
    "\n",
    "lemmatization=WordNetLemmatizer()\n",
    "def lemmatize(text):\n",
    "    lemma =[lemmatization.lemmatize(word,pos='v')for word in text]\n",
    "    return lemma"
   ]
  },
  {
   "cell_type": "code",
   "execution_count": 15,
   "metadata": {},
   "outputs": [
    {
     "data": {
      "text/plain": [
       "0       [film, adapt, comic, book, plenty, success, wh...\n",
       "1       [every, movie, come, along, suspect, studio, e...\n",
       "2       [get, mail, work, alot, better, deserve, order...\n",
       "3       [jaw, rare, film, grab, attention, show, singl...\n",
       "4       [moviemaking, lot, like, general, manager, nfl...\n",
       "                              ...                        \n",
       "1995    [anything, stigmata, take, warn, release, simi...\n",
       "1996    [john, boorman, zardoz, goofy, cinematic, deba...\n",
       "1997    [kid, hall, acquire, taste, take, least, seaso...\n",
       "1998    [time, john, carpenter, great, horror, directo...\n",
       "1999    [two, party, guy, bob, head, haddaway, dance, ...\n",
       "Name: Review, Length: 2000, dtype: object"
      ]
     },
     "execution_count": 15,
     "metadata": {},
     "output_type": "execute_result"
    }
   ],
   "source": [
    "lemmatized_df = without_stopwords_df.apply(lemmatize)\n",
    "lemmatized_df"
   ]
  },
  {
   "cell_type": "code",
   "execution_count": 16,
   "metadata": {},
   "outputs": [],
   "source": [
    "# Creating the corpus\n",
    "\n",
    "corpus = []\n",
    "for i in lemmatized_df:\n",
    "    t =' '.join([row for row in i])\n",
    "    corpus.append(t)"
   ]
  },
  {
   "cell_type": "code",
   "execution_count": 17,
   "metadata": {},
   "outputs": [
    {
     "data": {
      "text/plain": [
       "2000"
      ]
     },
     "execution_count": 17,
     "metadata": {},
     "output_type": "execute_result"
    }
   ],
   "source": [
    "len(corpus)"
   ]
  },
  {
   "cell_type": "markdown",
   "metadata": {},
   "source": [
    "## TF-IDF Vectorization"
   ]
  },
  {
   "cell_type": "markdown",
   "metadata": {},
   "source": [
    "TF-IDF stands for **term frequency-inverse document frequency**.Now we are going to create tf-idf model using TfidfVectorizer()."
   ]
  },
  {
   "cell_type": "code",
   "execution_count": 18,
   "metadata": {},
   "outputs": [],
   "source": [
    "vectorizer = TfidfVectorizer()\n",
    "tfidf_model = vectorizer.fit_transform(corpus)\n",
    "tfidf_model = tfidf_model.toarray()"
   ]
  },
  {
   "cell_type": "code",
   "execution_count": 19,
   "metadata": {},
   "outputs": [
    {
     "name": "stdout",
     "output_type": "stream",
     "text": [
      "[[0. 0. 0. ... 0. 0. 0.]\n",
      " [0. 0. 0. ... 0. 0. 0.]\n",
      " [0. 0. 0. ... 0. 0. 0.]\n",
      " ...\n",
      " [0. 0. 0. ... 0. 0. 0.]\n",
      " [0. 0. 0. ... 0. 0. 0.]\n",
      " [0. 0. 0. ... 0. 0. 0.]]\n"
     ]
    }
   ],
   "source": [
    "print(tfidf_model)"
   ]
  },
  {
   "cell_type": "markdown",
   "metadata": {},
   "source": [
    "## Multinomial Naive baye's classification model"
   ]
  },
  {
   "cell_type": "code",
   "execution_count": 20,
   "metadata": {},
   "outputs": [],
   "source": [
    "X = tfidf_model"
   ]
  },
  {
   "cell_type": "code",
   "execution_count": 21,
   "metadata": {},
   "outputs": [],
   "source": [
    "y = movie_df['label']"
   ]
  },
  {
   "cell_type": "code",
   "execution_count": 22,
   "metadata": {},
   "outputs": [],
   "source": [
    "# Splitting the dataset into train and test\n",
    "\n",
    "X_train,X_test,y_train,y_test=train_test_split(X,y,test_size=0.2,random_state=34)"
   ]
  },
  {
   "cell_type": "code",
   "execution_count": 23,
   "metadata": {},
   "outputs": [
    {
     "data": {
      "text/plain": [
       "MultinomialNB(alpha=1.0, class_prior=None, fit_prior=True)"
      ]
     },
     "execution_count": 23,
     "metadata": {},
     "output_type": "execute_result"
    }
   ],
   "source": [
    "# Creating the multinomial naive bayes' model and fitting the train and test data\n",
    "\n",
    "clf=MultinomialNB()\n",
    "clf.fit(X_train,y_train)"
   ]
  },
  {
   "cell_type": "code",
   "execution_count": 24,
   "metadata": {},
   "outputs": [],
   "source": [
    "pred=clf.predict(X_test)"
   ]
  },
  {
   "cell_type": "code",
   "execution_count": 25,
   "metadata": {
    "scrolled": true
   },
   "outputs": [
    {
     "data": {
      "text/plain": [
       "array([1, 0, 1, 1, 1, 0, 0, 1, 0, 1, 1, 0, 0, 1, 1, 1, 1, 0, 1, 0, 1, 1,\n",
       "       0, 1, 1, 1, 1, 0, 0, 1, 1, 0, 0, 0, 1, 0, 1, 0, 1, 0, 0, 0, 1, 1,\n",
       "       1, 0, 1, 0, 1, 0, 0, 0, 1, 1, 1, 0, 0, 1, 1, 0, 1, 1, 1, 0, 0, 1,\n",
       "       0, 0, 0, 1, 0, 1, 1, 1, 1, 1, 0, 0, 1, 0, 0, 1, 0, 1, 1, 1, 0, 0,\n",
       "       1, 1, 0, 0, 0, 0, 0, 1, 1, 1, 1, 0, 1, 0, 1, 0, 1, 1, 0, 0, 0, 0,\n",
       "       1, 0, 1, 0, 1, 1, 1, 0, 1, 1, 0, 1, 1, 1, 0, 0, 0, 1, 1, 1, 0, 1,\n",
       "       1, 1, 1, 1, 1, 1, 1, 0, 0, 1, 1, 1, 0, 1, 1, 0, 0, 0, 0, 0, 0, 0,\n",
       "       0, 0, 1, 1, 1, 0, 0, 0, 1, 1, 1, 0, 1, 1, 0, 0, 1, 0, 1, 0, 1, 0,\n",
       "       1, 0, 0, 0, 1, 0, 0, 0, 0, 1, 0, 1, 1, 1, 0, 0, 0, 1, 1, 0, 0, 1,\n",
       "       1, 0, 0, 1, 1, 1, 0, 1, 0, 0, 1, 1, 1, 0, 0, 0, 0, 1, 1, 1, 0, 0,\n",
       "       1, 0, 1, 1, 0, 0, 1, 1, 0, 1, 0, 0, 0, 1, 0, 1, 1, 0, 1, 1, 1, 1,\n",
       "       1, 1, 1, 0, 1, 0, 0, 1, 0, 1, 1, 0, 0, 1, 1, 1, 1, 0, 1, 1, 0, 1,\n",
       "       1, 1, 1, 0, 1, 1, 0, 0, 0, 0, 0, 1, 1, 0, 0, 1, 0, 0, 1, 0, 0, 0,\n",
       "       1, 0, 0, 0, 0, 0, 1, 0, 1, 1, 1, 0, 0, 1, 0, 1, 1, 0, 0, 1, 1, 1,\n",
       "       0, 1, 1, 0, 0, 0, 0, 1, 0, 0, 1, 0, 1, 0, 1, 0, 0, 1, 0, 1, 0, 1,\n",
       "       0, 1, 1, 1, 1, 0, 1, 1, 1, 0, 1, 0, 1, 0, 0, 1, 1, 1, 1, 1, 0, 0,\n",
       "       0, 1, 0, 0, 0, 1, 1, 1, 1, 1, 1, 0, 0, 1, 0, 1, 1, 1, 0, 1, 0, 1,\n",
       "       1, 1, 0, 1, 0, 1, 1, 1, 1, 0, 0, 1, 1, 1, 1, 1, 0, 0, 1, 1, 0, 1,\n",
       "       0, 0, 1, 0])"
      ]
     },
     "execution_count": 25,
     "metadata": {},
     "output_type": "execute_result"
    }
   ],
   "source": [
    "pred"
   ]
  },
  {
   "cell_type": "code",
   "execution_count": 26,
   "metadata": {},
   "outputs": [
    {
     "data": {
      "text/plain": [
       "1312    1\n",
       "479     0\n",
       "1404    1\n",
       "664     0\n",
       "1133    1\n",
       "       ..\n",
       "1891    1\n",
       "217     0\n",
       "286     0\n",
       "1380    1\n",
       "130     0\n",
       "Name: label, Length: 400, dtype: int32"
      ]
     },
     "execution_count": 26,
     "metadata": {},
     "output_type": "execute_result"
    }
   ],
   "source": [
    "y_test"
   ]
  },
  {
   "cell_type": "code",
   "execution_count": 27,
   "metadata": {},
   "outputs": [],
   "source": [
    "#computing the accuracy of the model\n",
    "\n",
    "acc=accuracy_score(y_test,pred)"
   ]
  },
  {
   "cell_type": "code",
   "execution_count": 28,
   "metadata": {},
   "outputs": [
    {
     "data": {
      "text/plain": [
       "0.8225"
      ]
     },
     "execution_count": 28,
     "metadata": {},
     "output_type": "execute_result"
    }
   ],
   "source": [
    "acc"
   ]
  },
  {
   "cell_type": "markdown",
   "metadata": {},
   "source": [
    "The accuracy of the multinomial naive bayes' classification model is 82.25%."
   ]
  },
  {
   "cell_type": "markdown",
   "metadata": {},
   "source": [
    "## K-fold cross validation"
   ]
  },
  {
   "cell_type": "code",
   "execution_count": 29,
   "metadata": {},
   "outputs": [],
   "source": [
    "# prepare the cross-validation procedure\n",
    "\n",
    "cv = KFold(n_splits=5, random_state=1, shuffle=True)"
   ]
  },
  {
   "cell_type": "code",
   "execution_count": 30,
   "metadata": {},
   "outputs": [],
   "source": [
    "scores = cross_val_score(clf, X, y, scoring='accuracy', cv=cv, n_jobs=-1)"
   ]
  },
  {
   "cell_type": "code",
   "execution_count": 31,
   "metadata": {},
   "outputs": [
    {
     "name": "stdout",
     "output_type": "stream",
     "text": [
      "[0.815  0.8225 0.8175 0.7725 0.8   ]\n"
     ]
    }
   ],
   "source": [
    "print(scores)"
   ]
  },
  {
   "cell_type": "code",
   "execution_count": 32,
   "metadata": {},
   "outputs": [
    {
     "name": "stdout",
     "output_type": "stream",
     "text": [
      "Accuracy: 0.805 (0.018)\n"
     ]
    }
   ],
   "source": [
    "print('Accuracy: %.3f (%.3f)' % (mean(scores), std(scores)))"
   ]
  },
  {
   "cell_type": "markdown",
   "metadata": {},
   "source": [
    "### Classification report"
   ]
  },
  {
   "cell_type": "code",
   "execution_count": 33,
   "metadata": {},
   "outputs": [
    {
     "name": "stdout",
     "output_type": "stream",
     "text": [
      "              precision    recall  f1-score   support\n",
      "\n",
      "           0       0.85      0.79      0.82       201\n",
      "           1       0.80      0.86      0.83       199\n",
      "\n",
      "    accuracy                           0.82       400\n",
      "   macro avg       0.82      0.82      0.82       400\n",
      "weighted avg       0.82      0.82      0.82       400\n",
      "\n"
     ]
    }
   ],
   "source": [
    "report = classification_report(y_test,pred)\n",
    "print(report)"
   ]
  },
  {
   "cell_type": "markdown",
   "metadata": {},
   "source": [
    "### Confusion Matrix"
   ]
  },
  {
   "cell_type": "code",
   "execution_count": 34,
   "metadata": {},
   "outputs": [
    {
     "name": "stdout",
     "output_type": "stream",
     "text": [
      "[[158  43]\n",
      " [ 28 171]]\n"
     ]
    }
   ],
   "source": [
    "confusion = confusion_matrix(y_test,pred)\n",
    "print(confusion)"
   ]
  },
  {
   "cell_type": "code",
   "execution_count": 35,
   "metadata": {},
   "outputs": [
    {
     "data": {
      "text/plain": [
       "Text(0.5, 33.0, 'predicted label')"
      ]
     },
     "execution_count": 35,
     "metadata": {},
     "output_type": "execute_result"
    },
    {
     "data": {
      "image/png": "[encoded data removed]",
      "text/plain": [
       "<Figure size 720x432 with 1 Axes>"
      ]
     },
     "metadata": {
      "needs_background": "light"
     },
     "output_type": "display_data"
    }
   ],
   "source": [
    "# visulaizing the confusion matrix\n",
    "\n",
    "fig,ax=plt.subplots(figsize=(10,6))\n",
    "matrix=confusion_matrix(y_test,pred)\n",
    "sns.heatmap(matrix,annot=True,fmt='d',linewidths=.5,cmap='copper',cbar=False,ax=ax)\n",
    "plt.ylabel('true label')\n",
    "plt.xlabel('predicted label') "
   ]
  },
  {
   "cell_type": "code",
   "execution_count": 36,
   "metadata": {},
   "outputs": [],
   "source": [
    "TN = confusion[0, 0]\n",
    "FP = confusion[0, 1]\n",
    "FN = confusion[1, 0]\n",
    "TP = confusion[1, 1]"
   ]
  },
  {
   "cell_type": "code",
   "execution_count": 37,
   "metadata": {},
   "outputs": [
    {
     "name": "stdout",
     "output_type": "stream",
     "text": [
      "sensitivity 0.8592964824120602\n",
      "specificity 0.7860696517412935\n"
     ]
    }
   ],
   "source": [
    "# computing the sensitivity and specificity\n",
    "\n",
    "sensitivity = TP / float(FN + TP)\n",
    "print(\"sensitivity\",sensitivity)\n",
    "specificity = TN / float(TN + FP)\n",
    "print(\"specificity\",specificity)"
   ]
  },
  {
   "cell_type": "code",
   "execution_count": 38,
   "metadata": {},
   "outputs": [],
   "source": [
    "# predict probabilities\n",
    "y_pred_proba = clf.predict_proba(X_test)"
   ]
  },
  {
   "cell_type": "code",
   "execution_count": 39,
   "metadata": {},
   "outputs": [
    {
     "data": {
      "text/plain": [
       "array([[0.36863825, 0.63136175],\n",
       "       [0.56550637, 0.43449363],\n",
       "       [0.30865114, 0.69134886],\n",
       "       [0.46159086, 0.53840914],\n",
       "       [0.23102338, 0.76897662],\n",
       "       [0.55620684, 0.44379316],\n",
       "       [0.5568011 , 0.4431989 ],\n",
       "       [0.28253409, 0.71746591],\n",
       "       [0.69263429, 0.30736571],\n",
       "       [0.3136183 , 0.6863817 ],\n",
       "       [0.22601581, 0.77398419],\n",
       "       [0.5023203 , 0.4976797 ],\n",
       "       [0.5224554 , 0.4775446 ],\n",
       "       [0.39977573, 0.60022427],\n",
       "       [0.33947332, 0.66052668],\n",
       "       [0.33298103, 0.66701897],\n",
       "       [0.4192951 , 0.5807049 ],\n",
       "       [0.69919074, 0.30080926],\n",
       "       [0.23583814, 0.76416186],\n",
       "       [0.5249363 , 0.4750637 ],\n",
       "       [0.32986391, 0.67013609],\n",
       "       [0.3523848 , 0.6476152 ],\n",
       "       [0.53837315, 0.46162685],\n",
       "       [0.31340497, 0.68659503],\n",
       "       [0.46312226, 0.53687774],\n",
       "       [0.43596361, 0.56403639],\n",
       "       [0.34688685, 0.65311315],\n",
       "       [0.83673039, 0.16326961],\n",
       "       [0.56662528, 0.43337472],\n",
       "       [0.46375587, 0.53624413],\n",
       "       [0.42428597, 0.57571403],\n",
       "       [0.83384042, 0.16615958],\n",
       "       [0.58019075, 0.41980925],\n",
       "       [0.71524077, 0.28475923],\n",
       "       [0.43906991, 0.56093009],\n",
       "       [0.55689742, 0.44310258],\n",
       "       [0.46577826, 0.53422174],\n",
       "       [0.63448683, 0.36551317],\n",
       "       [0.32765467, 0.67234533],\n",
       "       [0.67230905, 0.32769095],\n",
       "       [0.66440106, 0.33559894],\n",
       "       [0.82057743, 0.17942257],\n",
       "       [0.45480655, 0.54519345],\n",
       "       [0.27848536, 0.72151464],\n",
       "       [0.33291429, 0.66708571],\n",
       "       [0.66096472, 0.33903528],\n",
       "       [0.44967237, 0.55032763],\n",
       "       [0.74536748, 0.25463252],\n",
       "       [0.32874947, 0.67125053],\n",
       "       [0.56505453, 0.43494547],\n",
       "       [0.53070742, 0.46929258],\n",
       "       [0.68565891, 0.31434109],\n",
       "       [0.28788422, 0.71211578],\n",
       "       [0.4656527 , 0.5343473 ],\n",
       "       [0.38541443, 0.61458557],\n",
       "       [0.58670124, 0.41329876],\n",
       "       [0.50645541, 0.49354459],\n",
       "       [0.41695219, 0.58304781],\n",
       "       [0.40880264, 0.59119736],\n",
       "       [0.68560125, 0.31439875],\n",
       "       [0.45431784, 0.54568216],\n",
       "       [0.40278414, 0.59721586],\n",
       "       [0.45059534, 0.54940466],\n",
       "       [0.6188174 , 0.3811826 ],\n",
       "       [0.71121695, 0.28878305],\n",
       "       [0.40264891, 0.59735109],\n",
       "       [0.69018125, 0.30981875],\n",
       "       [0.58524381, 0.41475619],\n",
       "       [0.80452329, 0.19547671],\n",
       "       [0.47834247, 0.52165753],\n",
       "       [0.65616319, 0.34383681],\n",
       "       [0.29177035, 0.70822965],\n",
       "       [0.25264932, 0.74735068],\n",
       "       [0.20825263, 0.79174737],\n",
       "       [0.1072913 , 0.8927087 ],\n",
       "       [0.46413427, 0.53586573],\n",
       "       [0.58431625, 0.41568375],\n",
       "       [0.73361717, 0.26638283],\n",
       "       [0.46129526, 0.53870474],\n",
       "       [0.77041994, 0.22958006],\n",
       "       [0.62542769, 0.37457231],\n",
       "       [0.48703718, 0.51296282],\n",
       "       [0.77979095, 0.22020905],\n",
       "       [0.40675701, 0.59324299],\n",
       "       [0.32303415, 0.67696585],\n",
       "       [0.28535231, 0.71464769],\n",
       "       [0.59711506, 0.40288494],\n",
       "       [0.78276842, 0.21723158],\n",
       "       [0.34799238, 0.65200762],\n",
       "       [0.4396696 , 0.5603304 ],\n",
       "       [0.5423769 , 0.4576231 ],\n",
       "       [0.7154615 , 0.2845385 ],\n",
       "       [0.84302522, 0.15697478],\n",
       "       [0.64325682, 0.35674318],\n",
       "       [0.73475519, 0.26524481],\n",
       "       [0.49575406, 0.50424594],\n",
       "       [0.43525923, 0.56474077],\n",
       "       [0.22133879, 0.77866121],\n",
       "       [0.3648947 , 0.6351053 ],\n",
       "       [0.73254243, 0.26745757],\n",
       "       [0.44444497, 0.55555503],\n",
       "       [0.58980277, 0.41019723],\n",
       "       [0.2493929 , 0.7506071 ],\n",
       "       [0.65234586, 0.34765414],\n",
       "       [0.45570854, 0.54429146],\n",
       "       [0.33072809, 0.66927191],\n",
       "       [0.72843817, 0.27156183],\n",
       "       [0.56759663, 0.43240337],\n",
       "       [0.68176285, 0.31823715],\n",
       "       [0.61846322, 0.38153678],\n",
       "       [0.35269184, 0.64730816],\n",
       "       [0.5291952 , 0.4708048 ],\n",
       "       [0.48282293, 0.51717707],\n",
       "       [0.5265771 , 0.4734229 ],\n",
       "       [0.29997608, 0.70002392],\n",
       "       [0.30317363, 0.69682637],\n",
       "       [0.3630897 , 0.6369103 ],\n",
       "       [0.60293184, 0.39706816],\n",
       "       [0.48726667, 0.51273333],\n",
       "       [0.38790422, 0.61209578],\n",
       "       [0.63520505, 0.36479495],\n",
       "       [0.27069809, 0.72930191],\n",
       "       [0.41541997, 0.58458003],\n",
       "       [0.39416948, 0.60583052],\n",
       "       [0.59127783, 0.40872217],\n",
       "       [0.5335969 , 0.4664031 ],\n",
       "       [0.53120889, 0.46879111],\n",
       "       [0.43728286, 0.56271714],\n",
       "       [0.49975661, 0.50024339],\n",
       "       [0.19848477, 0.80151523],\n",
       "       [0.61455191, 0.38544809],\n",
       "       [0.44284246, 0.55715754],\n",
       "       [0.18462189, 0.81537811],\n",
       "       [0.47943839, 0.52056161],\n",
       "       [0.32716747, 0.67283253],\n",
       "       [0.32133   , 0.67867   ],\n",
       "       [0.25299661, 0.74700339],\n",
       "       [0.40198725, 0.59801275],\n",
       "       [0.31666536, 0.68333464],\n",
       "       [0.65785623, 0.34214377],\n",
       "       [0.66962493, 0.33037507],\n",
       "       [0.43213143, 0.56786857],\n",
       "       [0.22573751, 0.77426249],\n",
       "       [0.31697694, 0.68302306],\n",
       "       [0.71821141, 0.28178859],\n",
       "       [0.27384557, 0.72615443],\n",
       "       [0.29936273, 0.70063727],\n",
       "       [0.58264444, 0.41735556],\n",
       "       [0.61987214, 0.38012786],\n",
       "       [0.53100939, 0.46899061],\n",
       "       [0.57228187, 0.42771813],\n",
       "       [0.67656991, 0.32343009],\n",
       "       [0.51849353, 0.48150647],\n",
       "       [0.54835888, 0.45164112],\n",
       "       [0.58331461, 0.41668539],\n",
       "       [0.52297829, 0.47702171],\n",
       "       [0.4699226 , 0.5300774 ],\n",
       "       [0.42752951, 0.57247049],\n",
       "       [0.33658207, 0.66341793],\n",
       "       [0.79253802, 0.20746198],\n",
       "       [0.55569788, 0.44430212],\n",
       "       [0.57403966, 0.42596034],\n",
       "       [0.48169823, 0.51830177],\n",
       "       [0.20160706, 0.79839294],\n",
       "       [0.28341914, 0.71658086],\n",
       "       [0.71901853, 0.28098147],\n",
       "       [0.49653564, 0.50346436],\n",
       "       [0.486326  , 0.513674  ],\n",
       "       [0.5800974 , 0.4199026 ],\n",
       "       [0.68778399, 0.31221601],\n",
       "       [0.1569455 , 0.8430545 ],\n",
       "       [0.8279037 , 0.1720963 ],\n",
       "       [0.25344558, 0.74655442],\n",
       "       [0.59430359, 0.40569641],\n",
       "       [0.3033893 , 0.6966107 ],\n",
       "       [0.55117898, 0.44882102],\n",
       "       [0.30354869, 0.69645131],\n",
       "       [0.61437291, 0.38562709],\n",
       "       [0.60994747, 0.39005253],\n",
       "       [0.62662207, 0.37337793],\n",
       "       [0.47350058, 0.52649942],\n",
       "       [0.69930877, 0.30069123],\n",
       "       [0.51890428, 0.48109572],\n",
       "       [0.81830284, 0.18169716],\n",
       "       [0.68731371, 0.31268629],\n",
       "       [0.42538351, 0.57461649],\n",
       "       [0.53264144, 0.46735856],\n",
       "       [0.42439273, 0.57560727],\n",
       "       [0.47205352, 0.52794648],\n",
       "       [0.359896  , 0.640104  ],\n",
       "       [0.65560096, 0.34439904],\n",
       "       [0.76778669, 0.23221331],\n",
       "       [0.67087625, 0.32912375],\n",
       "       [0.41628934, 0.58371066],\n",
       "       [0.33471608, 0.66528392],\n",
       "       [0.75775483, 0.24224517],\n",
       "       [0.6028182 , 0.3971818 ],\n",
       "       [0.24109626, 0.75890374],\n",
       "       [0.46188164, 0.53811836],\n",
       "       [0.59595797, 0.40404203],\n",
       "       [0.54431134, 0.45568866],\n",
       "       [0.34071908, 0.65928092],\n",
       "       [0.21375331, 0.78624669],\n",
       "       [0.32936427, 0.67063573],\n",
       "       [0.52179989, 0.47820011],\n",
       "       [0.37574269, 0.62425731],\n",
       "       [0.60682362, 0.39317638],\n",
       "       [0.50246296, 0.49753704],\n",
       "       [0.20391359, 0.79608641],\n",
       "       [0.34730174, 0.65269826],\n",
       "       [0.29741706, 0.70258294],\n",
       "       [0.59189818, 0.40810182],\n",
       "       [0.52320789, 0.47679211],\n",
       "       [0.64054461, 0.35945539],\n",
       "       [0.60932525, 0.39067475],\n",
       "       [0.24924267, 0.75075733],\n",
       "       [0.38378283, 0.61621717],\n",
       "       [0.34424495, 0.65575505],\n",
       "       [0.60912723, 0.39087277],\n",
       "       [0.58786055, 0.41213945],\n",
       "       [0.35633065, 0.64366935],\n",
       "       [0.78470455, 0.21529545],\n",
       "       [0.25365879, 0.74634121],\n",
       "       [0.48326888, 0.51673112],\n",
       "       [0.63734693, 0.36265307],\n",
       "       [0.67926054, 0.32073946],\n",
       "       [0.35350909, 0.64649091],\n",
       "       [0.32363735, 0.67636265],\n",
       "       [0.68598583, 0.31401417],\n",
       "       [0.45714006, 0.54285994],\n",
       "       [0.594676  , 0.405324  ],\n",
       "       [0.57805029, 0.42194971],\n",
       "       [0.73284429, 0.26715571],\n",
       "       [0.2957348 , 0.7042652 ],\n",
       "       [0.53769634, 0.46230366],\n",
       "       [0.30034468, 0.69965532],\n",
       "       [0.42970857, 0.57029143],\n",
       "       [0.5509786 , 0.4490214 ],\n",
       "       [0.33984694, 0.66015306],\n",
       "       [0.27303982, 0.72696018],\n",
       "       [0.19831936, 0.80168064],\n",
       "       [0.44337576, 0.55662424],\n",
       "       [0.35711975, 0.64288025],\n",
       "       [0.37372207, 0.62627793],\n",
       "       [0.3435752 , 0.6564248 ],\n",
       "       [0.77226075, 0.22773925],\n",
       "       [0.28231299, 0.71768701],\n",
       "       [0.59531304, 0.40468696],\n",
       "       [0.52079614, 0.47920386],\n",
       "       [0.38069015, 0.61930985],\n",
       "       [0.61702236, 0.38297764],\n",
       "       [0.48641922, 0.51358078],\n",
       "       [0.27084302, 0.72915698],\n",
       "       [0.64796052, 0.35203948],\n",
       "       [0.52502601, 0.47497399],\n",
       "       [0.41642742, 0.58357258],\n",
       "       [0.14032426, 0.85967574],\n",
       "       [0.30628164, 0.69371836],\n",
       "       [0.36468364, 0.63531636],\n",
       "       [0.6449486 , 0.3550514 ],\n",
       "       [0.25836045, 0.74163955],\n",
       "       [0.31313906, 0.68686094],\n",
       "       [0.71306087, 0.28693913],\n",
       "       [0.29217014, 0.70782986],\n",
       "       [0.38238576, 0.61761424],\n",
       "       [0.24187005, 0.75812995],\n",
       "       [0.24516592, 0.75483408],\n",
       "       [0.59837164, 0.40162836],\n",
       "       [0.45996616, 0.54003384],\n",
       "       [0.23904714, 0.76095286],\n",
       "       [0.611484  , 0.388516  ],\n",
       "       [0.64123797, 0.35876203],\n",
       "       [0.52488336, 0.47511664],\n",
       "       [0.54481046, 0.45518954],\n",
       "       [0.62959926, 0.37040074],\n",
       "       [0.18030272, 0.81969728],\n",
       "       [0.34425483, 0.65574517],\n",
       "       [0.74190913, 0.25809087],\n",
       "       [0.59515393, 0.40484607],\n",
       "       [0.1989558 , 0.8010442 ],\n",
       "       [0.57462947, 0.42537053],\n",
       "       [0.68167263, 0.31832737],\n",
       "       [0.25050764, 0.74949236],\n",
       "       [0.64168988, 0.35831012],\n",
       "       [0.61188633, 0.38811367],\n",
       "       [0.60210833, 0.39789167],\n",
       "       [0.14740971, 0.85259029],\n",
       "       [0.57364351, 0.42635649],\n",
       "       [0.73721957, 0.26278043],\n",
       "       [0.5325097 , 0.4674903 ],\n",
       "       [0.62517027, 0.37482973],\n",
       "       [0.59608838, 0.40391162],\n",
       "       [0.33366375, 0.66633625],\n",
       "       [0.7959051 , 0.2040949 ],\n",
       "       [0.39460955, 0.60539045],\n",
       "       [0.1983417 , 0.8016583 ],\n",
       "       [0.47064624, 0.52935376],\n",
       "       [0.5516624 , 0.4483376 ],\n",
       "       [0.73862918, 0.26137082],\n",
       "       [0.4832152 , 0.5167848 ],\n",
       "       [0.51751358, 0.48248642],\n",
       "       [0.36144182, 0.63855818],\n",
       "       [0.36319382, 0.63680618],\n",
       "       [0.76893409, 0.23106591],\n",
       "       [0.67314358, 0.32685642],\n",
       "       [0.45744754, 0.54255246],\n",
       "       [0.4685847 , 0.5314153 ],\n",
       "       [0.32236283, 0.67763717],\n",
       "       [0.74991225, 0.25008775],\n",
       "       [0.42177642, 0.57822358],\n",
       "       [0.33508913, 0.66491087],\n",
       "       [0.67653228, 0.32346772],\n",
       "       [0.55708146, 0.44291854],\n",
       "       [0.63276077, 0.36723923],\n",
       "       [0.57665812, 0.42334188],\n",
       "       [0.48564628, 0.51435372],\n",
       "       [0.64822585, 0.35177415],\n",
       "       [0.69283772, 0.30716228],\n",
       "       [0.46027536, 0.53972464],\n",
       "       [0.53352201, 0.46647799],\n",
       "       [0.49064762, 0.50935238],\n",
       "       [0.54580813, 0.45419187],\n",
       "       [0.40800263, 0.59199737],\n",
       "       [0.50133755, 0.49866245],\n",
       "       [0.52638144, 0.47361856],\n",
       "       [0.24600917, 0.75399083],\n",
       "       [0.84759903, 0.15240097],\n",
       "       [0.30256008, 0.69743992],\n",
       "       [0.55500684, 0.44499316],\n",
       "       [0.27964987, 0.72035013],\n",
       "       [0.64699466, 0.35300534],\n",
       "       [0.37534512, 0.62465488],\n",
       "       [0.47291248, 0.52708752],\n",
       "       [0.45000015, 0.54999985],\n",
       "       [0.26788391, 0.73211609],\n",
       "       [0.77261636, 0.22738364],\n",
       "       [0.36188992, 0.63811008],\n",
       "       [0.48029007, 0.51970993],\n",
       "       [0.48170041, 0.51829959],\n",
       "       [0.55292485, 0.44707515],\n",
       "       [0.48185753, 0.51814247],\n",
       "       [0.52696309, 0.47303691],\n",
       "       [0.31254115, 0.68745885],\n",
       "       [0.52624876, 0.47375124],\n",
       "       [0.62237552, 0.37762448],\n",
       "       [0.28362636, 0.71637364],\n",
       "       [0.35688751, 0.64311249],\n",
       "       [0.42548434, 0.57451566],\n",
       "       [0.38835437, 0.61164563],\n",
       "       [0.48994654, 0.51005346],\n",
       "       [0.58045214, 0.41954786],\n",
       "       [0.5583654 , 0.4416346 ],\n",
       "       [0.63773515, 0.36226485],\n",
       "       [0.35204538, 0.64795462],\n",
       "       [0.80430314, 0.19569686],\n",
       "       [0.69677195, 0.30322805],\n",
       "       [0.67388596, 0.32611404],\n",
       "       [0.43041918, 0.56958082],\n",
       "       [0.23611485, 0.76388515],\n",
       "       [0.34274363, 0.65725637],\n",
       "       [0.47393544, 0.52606456],\n",
       "       [0.44108476, 0.55891524],\n",
       "       [0.27032147, 0.72967853],\n",
       "       [0.53077468, 0.46922532],\n",
       "       [0.60526895, 0.39473105],\n",
       "       [0.34457795, 0.65542205],\n",
       "       [0.58545397, 0.41454603],\n",
       "       [0.35356773, 0.64643227],\n",
       "       [0.45761647, 0.54238353],\n",
       "       [0.45751895, 0.54248105],\n",
       "       [0.52067028, 0.47932972],\n",
       "       [0.4301672 , 0.5698328 ],\n",
       "       [0.52831348, 0.47168652],\n",
       "       [0.23353186, 0.76646814],\n",
       "       [0.35822974, 0.64177026],\n",
       "       [0.34726135, 0.65273865],\n",
       "       [0.6935708 , 0.3064292 ],\n",
       "       [0.34112731, 0.65887269],\n",
       "       [0.72897777, 0.27102223],\n",
       "       [0.43927132, 0.56072868],\n",
       "       [0.38825747, 0.61174253],\n",
       "       [0.28875497, 0.71124503],\n",
       "       [0.30163241, 0.69836759],\n",
       "       [0.61149943, 0.38850057],\n",
       "       [0.52982974, 0.47017026],\n",
       "       [0.48621838, 0.51378162],\n",
       "       [0.45370221, 0.54629779],\n",
       "       [0.47731167, 0.52268833],\n",
       "       [0.41876247, 0.58123753],\n",
       "       [0.25901061, 0.74098939],\n",
       "       [0.50393096, 0.49606904],\n",
       "       [0.50103193, 0.49896807],\n",
       "       [0.3361286 , 0.6638714 ],\n",
       "       [0.28527356, 0.71472644],\n",
       "       [0.60609197, 0.39390803],\n",
       "       [0.49797289, 0.50202711],\n",
       "       [0.58478504, 0.41521496],\n",
       "       [0.6630931 , 0.3369069 ],\n",
       "       [0.22038049, 0.77961951],\n",
       "       [0.63495818, 0.36504182]])"
      ]
     },
     "execution_count": 39,
     "metadata": {},
     "output_type": "execute_result"
    }
   ],
   "source": [
    "y_pred_proba"
   ]
  },
  {
   "cell_type": "markdown",
   "metadata": {},
   "source": [
    "## ROC curve"
   ]
  },
  {
   "cell_type": "code",
   "execution_count": 40,
   "metadata": {},
   "outputs": [],
   "source": [
    "# creating an ROC curve\n",
    "\n",
    "false_positive_rate, true_positive_rate, thresholds = roc_curve(y_test, y_pred_proba[:,1])\n",
    "roc_auc = auc(false_positive_rate, true_positive_rate)"
   ]
  },
  {
   "cell_type": "code",
   "execution_count": 41,
   "metadata": {},
   "outputs": [
    {
     "name": "stdout",
     "output_type": "stream",
     "text": [
      "0.9087977199429986\n"
     ]
    }
   ],
   "source": [
    "#area under the curve\n",
    "print(roc_auc)"
   ]
  },
  {
   "cell_type": "code",
   "execution_count": 42,
   "metadata": {},
   "outputs": [
    {
     "data": {
      "text/html": [
       "<div>\n",
       "<style scoped>\n",
       "    .dataframe tbody tr th:only-of-type {\n",
       "        vertical-align: middle;\n",
       "    }\n",
       "\n",
       "    .dataframe tbody tr th {\n",
       "        vertical-align: top;\n",
       "    }\n",
       "\n",
       "    .dataframe thead th {\n",
       "        text-align: right;\n",
       "    }\n",
       "</style>\n",
       "<table border=\"1\" class=\"dataframe\">\n",
       "  <thead>\n",
       "    <tr style=\"text-align: right;\">\n",
       "      <th></th>\n",
       "      <th>Threshold</th>\n",
       "      <th>TPR</th>\n",
       "      <th>FPR</th>\n",
       "    </tr>\n",
       "  </thead>\n",
       "  <tbody>\n",
       "    <tr>\n",
       "      <th>0</th>\n",
       "      <td>1.892709</td>\n",
       "      <td>0.000000</td>\n",
       "      <td>0.000000</td>\n",
       "    </tr>\n",
       "    <tr>\n",
       "      <th>1</th>\n",
       "      <td>0.892709</td>\n",
       "      <td>0.005025</td>\n",
       "      <td>0.000000</td>\n",
       "    </tr>\n",
       "    <tr>\n",
       "      <th>2</th>\n",
       "      <td>0.726960</td>\n",
       "      <td>0.206030</td>\n",
       "      <td>0.000000</td>\n",
       "    </tr>\n",
       "    <tr>\n",
       "      <th>3</th>\n",
       "      <td>0.726154</td>\n",
       "      <td>0.206030</td>\n",
       "      <td>0.004975</td>\n",
       "    </tr>\n",
       "    <tr>\n",
       "      <th>4</th>\n",
       "      <td>0.717687</td>\n",
       "      <td>0.221106</td>\n",
       "      <td>0.004975</td>\n",
       "    </tr>\n",
       "    <tr>\n",
       "      <th>...</th>\n",
       "      <td>...</td>\n",
       "      <td>...</td>\n",
       "      <td>...</td>\n",
       "    </tr>\n",
       "    <tr>\n",
       "      <th>101</th>\n",
       "      <td>0.388501</td>\n",
       "      <td>0.989950</td>\n",
       "      <td>0.552239</td>\n",
       "    </tr>\n",
       "    <tr>\n",
       "      <th>102</th>\n",
       "      <td>0.388114</td>\n",
       "      <td>0.994975</td>\n",
       "      <td>0.552239</td>\n",
       "    </tr>\n",
       "    <tr>\n",
       "      <th>103</th>\n",
       "      <td>0.373378</td>\n",
       "      <td>0.994975</td>\n",
       "      <td>0.601990</td>\n",
       "    </tr>\n",
       "    <tr>\n",
       "      <th>104</th>\n",
       "      <td>0.370401</td>\n",
       "      <td>1.000000</td>\n",
       "      <td>0.601990</td>\n",
       "    </tr>\n",
       "    <tr>\n",
       "      <th>105</th>\n",
       "      <td>0.152401</td>\n",
       "      <td>1.000000</td>\n",
       "      <td>1.000000</td>\n",
       "    </tr>\n",
       "  </tbody>\n",
       "</table>\n",
       "<p>106 rows × 3 columns</p>\n",
       "</div>"
      ],
      "text/plain": [
       "     Threshold       TPR       FPR\n",
       "0     1.892709  0.000000  0.000000\n",
       "1     0.892709  0.005025  0.000000\n",
       "2     0.726960  0.206030  0.000000\n",
       "3     0.726154  0.206030  0.004975\n",
       "4     0.717687  0.221106  0.004975\n",
       "..         ...       ...       ...\n",
       "101   0.388501  0.989950  0.552239\n",
       "102   0.388114  0.994975  0.552239\n",
       "103   0.373378  0.994975  0.601990\n",
       "104   0.370401  1.000000  0.601990\n",
       "105   0.152401  1.000000  1.000000\n",
       "\n",
       "[106 rows x 3 columns]"
      ]
     },
     "execution_count": 42,
     "metadata": {},
     "output_type": "execute_result"
    }
   ],
   "source": [
    "# matrix of thresholds, tpr, fpr\n",
    "pd.DataFrame({'Threshold': thresholds, \n",
    "              'TPR': true_positive_rate, \n",
    "              'FPR':false_positive_rate\n",
    "             })"
   ]
  },
  {
   "cell_type": "code",
   "execution_count": 43,
   "metadata": {},
   "outputs": [
    {
     "data": {
      "text/plain": [
       "[<matplotlib.lines.Line2D at 0x89eae35fc8>]"
      ]
     },
     "execution_count": 43,
     "metadata": {},
     "output_type": "execute_result"
    },
    {
     "data": {
      "image/png": "[encoded data removed]",
      "text/plain": [
       "<Figure size 432x288 with 1 Axes>"
      ]
     },
     "metadata": {
      "needs_background": "light"
     },
     "output_type": "display_data"
    }
   ],
   "source": [
    "# plotting the ROC curve\n",
    "%matplotlib inline  \n",
    "plt.ylabel('True Positive Rate')\n",
    "plt.xlabel('False Positive Rate')\n",
    "plt.title('ROC')\n",
    "plt.plot(false_positive_rate, true_positive_rate)"
   ]
  }
 ],
 "metadata": {
  "kernelspec": {
   "display_name": "Python 3",
   "language": "python",
   "name": "python3"
  },
  "language_info": {
   "codemirror_mode": {
    "name": "ipython",
    "version": 3
   },
   "file_extension": ".py",
   "mimetype": "text/x-python",
   "name": "python",
   "nbconvert_exporter": "python",
   "pygments_lexer": "ipython3",
   "version": "3.7.6"
  }
 },
 "nbformat": 4,
 "nbformat_minor": 4
}
